{
 "cells": [
  {
   "cell_type": "code",
   "execution_count": null,
   "id": "c9937e33",
   "metadata": {},
   "outputs": [],
   "source": [
    "import pandas as pd\n",
    "import numpy as np\n"
   ]
  },
  {
   "cell_type": "code",
   "execution_count": 4,
   "id": "430bbb81",
   "metadata": {},
   "outputs": [],
   "source": [
    "url_cgsse=\"https://github.com/niconomist98/DataAnalyticsUQ/raw/refs/heads/main/Datos/GEIH2025/cgsse.CSV\"\n",
    "url_ocupados=\"https://github.com/niconomist98/DataAnalyticsUQ/raw/refs/heads/main/Datos/GEIH2025/Ocupados.CSV\"\n",
    "url_ft=\"https://github.com/niconomist98/DataAnalyticsUQ/raw/refs/heads/main/Datos/GEIH2025/Fuerza%20de%20trabajo.CSV\"\n",
    "url_desocupados=\"https://github.com/niconomist98/DataAnalyticsUQ/raw/refs/heads/main/Datos/GEIH2025/No%20ocupados.CSV\""
   ]
  },
  {
   "cell_type": "code",
   "execution_count": 5,
   "id": "99731f98",
   "metadata": {},
   "outputs": [
    {
     "ename": "NameError",
     "evalue": "name 'df_cgsse' is not defined",
     "output_type": "error",
     "traceback": [
      "\u001b[31m---------------------------------------------------------------------------\u001b[39m",
      "\u001b[31mNameError\u001b[39m                                 Traceback (most recent call last)",
      "\u001b[36mCell\u001b[39m\u001b[36m \u001b[39m\u001b[32mIn[5]\u001b[39m\u001b[32m, line 2\u001b[39m\n\u001b[32m      1\u001b[39m \u001b[38;5;66;03m#Calcular población en edad de trabajar.\u001b[39;00m\n\u001b[32m----> \u001b[39m\u001b[32m2\u001b[39m PET = \u001b[43mdf_cgsse\u001b[49m[df_cgsse[\u001b[33m\"\u001b[39m\u001b[33mp6040\u001b[39m\u001b[33m\"\u001b[39m]>=\u001b[32m15\u001b[39m][\u001b[33m\"\u001b[39m\u001b[33mFEX_C18\u001b[39m\u001b[33m\"\u001b[39m].sum()\n\u001b[32m      3\u001b[39m \u001b[38;5;28mprint\u001b[39m(\u001b[33mf\u001b[39m\u001b[33m\"\u001b[39m\u001b[33mPoblacion en edad de trabajar:\u001b[39m\u001b[38;5;132;01m{\u001b[39;00mPET\u001b[38;5;132;01m}\u001b[39;00m\u001b[33m \u001b[39m\u001b[33m\"\u001b[39m)\n",
      "\u001b[31mNameError\u001b[39m: name 'df_cgsse' is not defined"
     ]
    }
   ],
   "source": [
    "#Calcular población en edad de trabajar.\n",
    "PET = df_cgsse[df_cgsse[\"p6040\"]>=15][\"FEX_C18\"].sum()\n",
    "print(f\"Poblacion en edad de trabajar:{PET} \")"
   ]
  }
 ],
 "metadata": {
  "kernelspec": {
   "display_name": "Python 3",
   "language": "python",
   "name": "python3"
  },
  "language_info": {
   "codemirror_mode": {
    "name": "ipython",
    "version": 3
   },
   "file_extension": ".py",
   "mimetype": "text/x-python",
   "name": "python",
   "nbconvert_exporter": "python",
   "pygments_lexer": "ipython3",
   "version": "3.12.1"
  }
 },
 "nbformat": 4,
 "nbformat_minor": 5
}
