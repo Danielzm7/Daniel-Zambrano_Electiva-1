{
 "cells": [
  {
   "cell_type": "code",
   "execution_count": 1,
   "id": "9ca136de",
   "metadata": {},
   "outputs": [
    {
     "name": "stdout",
     "output_type": "stream",
     "text": [
      "Hola mundo\n"
     ]
    }
   ],
   "source": [
    "print(\"Hola mundo\")"
   ]
  },
  {
   "cell_type": "code",
   "execution_count": 5,
   "id": "e946e909",
   "metadata": {},
   "outputs": [
    {
     "name": "stdout",
     "output_type": "stream",
     "text": [
      "['lotería', 'bingo', 'cartas', 100, 200.5, True, None, 'tragamonedas', [4, 3, 2]]\n"
     ]
    }
   ],
   "source": [
    "# Lista de 8 elementos mixtos\n",
    "lista = [\"lotería\", \"bingo\", \"cartas\", 100, 200.5, True, None, \"tragamonedas\",[4,3,2]]\n",
    "print(lista)\n"
   ]
  },
  {
   "cell_type": "code",
   "execution_count": 4,
   "id": "a43a5e43",
   "metadata": {},
   "outputs": [
    {
     "name": "stdout",
     "output_type": "stream",
     "text": [
      "100\n"
     ]
    }
   ],
   "source": [
    "#Acceder los elementos de una lista\n",
    "print(lista[3])"
   ]
  },
  {
   "cell_type": "code",
   "execution_count": 6,
   "id": "2017b430",
   "metadata": {},
   "outputs": [
    {
     "data": {
      "text/plain": [
       "2"
      ]
     },
     "execution_count": 6,
     "metadata": {},
     "output_type": "execute_result"
    }
   ],
   "source": [
    "lista[-1][-1]"
   ]
  },
  {
   "cell_type": "code",
   "execution_count": 10,
   "id": "dafabbd3",
   "metadata": {},
   "outputs": [
    {
     "data": {
      "text/plain": [
       "[[1, 2, 3], [5, 6, 7], [8, 9, 10]]"
      ]
     },
     "execution_count": 10,
     "metadata": {},
     "output_type": "execute_result"
    }
   ],
   "source": [
    "#Crear una matriz\n",
    "matrix= [[1,2,3],[5,6,7],[8,9,10]]\n",
    "matrix"
   ]
  },
  {
   "cell_type": "code",
   "execution_count": 11,
   "id": "bee05edf",
   "metadata": {},
   "outputs": [
    {
     "data": {
      "text/plain": [
       "6"
      ]
     },
     "execution_count": 11,
     "metadata": {},
     "output_type": "execute_result"
    }
   ],
   "source": [
    "matrix[1][1]"
   ]
  },
  {
   "cell_type": "code",
   "execution_count": 13,
   "id": "75b45abb",
   "metadata": {},
   "outputs": [
    {
     "data": {
      "text/plain": [
       "[6, 5, 4, 3, 2, 1]"
      ]
     },
     "execution_count": 13,
     "metadata": {},
     "output_type": "execute_result"
    }
   ],
   "source": [
    "listado= [6,5,4,3,2,1]\n",
    "listado"
   ]
  },
  {
   "cell_type": "code",
   "execution_count": 14,
   "id": "0523a137",
   "metadata": {},
   "outputs": [
    {
     "data": {
      "text/plain": [
       "[1, 2, 3, 4, 5, 6]"
      ]
     },
     "execution_count": 14,
     "metadata": {},
     "output_type": "execute_result"
    }
   ],
   "source": [
    "listado.sort()\n",
    "listado"
   ]
  },
  {
   "cell_type": "code",
   "execution_count": null,
   "id": "f39a2064",
   "metadata": {},
   "outputs": [],
   "source": [
    "#Crear diccionario\n",
    "diccionario_pib= {\"Colombia\":1000,\n",
    "                  \"Peru\":1500,\n",
    "                  \"brasil\":2000,\n",
    "                  \"usa\":7000}\n",
    "\n",
    "#Clave y dato, en este caso las claves son los países y los datos son los valores "
   ]
  },
  {
   "cell_type": "code",
   "execution_count": 16,
   "id": "68a63f8e",
   "metadata": {},
   "outputs": [
    {
     "data": {
      "text/plain": [
       "1000"
      ]
     },
     "execution_count": 16,
     "metadata": {},
     "output_type": "execute_result"
    }
   ],
   "source": [
    "diccionario_pib[\"Colombia\"]"
   ]
  },
  {
   "cell_type": "code",
   "execution_count": null,
   "id": "1a22ec4a",
   "metadata": {},
   "outputs": [],
   "source": [
    "#Crear diccionario_2\n",
    "diccionario_2= {\"Colombia_2\":[1000,2000,30000],\n",
    "                  \"Peru_2\":[1500,1700,2000],\n",
    "                  \"brasil_2\":[2000,2500,3000],\n",
    "                  \"usa\":[7000,8000,9000]\n",
    "                  }"
   ]
  },
  {
   "cell_type": "code",
   "execution_count": 19,
   "id": "f50c9f39",
   "metadata": {},
   "outputs": [
    {
     "data": {
      "text/plain": [
       "[1000, 2000, 30000]"
      ]
     },
     "execution_count": 19,
     "metadata": {},
     "output_type": "execute_result"
    }
   ],
   "source": [
    "diccionario_2[\"Colombia_2\"]"
   ]
  },
  {
   "cell_type": "code",
   "execution_count": 2,
   "id": "afd4325a",
   "metadata": {},
   "outputs": [],
   "source": [
    "#Crear diccionario_3\n",
    "ejercicio= {\"nombre\":[\"pedro\",\"juan\",\"jhon\",\"pedro\"],\n",
    "                  \"telefono\":[123,456,789,101112],\n",
    "                  \"carrera\":[\"economia\",\"fisica\",\"admon\",\"matemática\"]\n",
    "                  }\n",
    "                \n",
    "                  "
   ]
  },
  {
   "cell_type": "code",
   "execution_count": 24,
   "id": "7b1cb0dd",
   "metadata": {},
   "outputs": [
    {
     "data": {
      "text/plain": [
       "{'nombre': ['pedro', 'juan', 'jhon', 'pedro'],\n",
       " 'telefono': [123, 456, 789, 101112],\n",
       " 'carrera': ['economia', 'fisica', 'admon', 'matemática']}"
      ]
     },
     "execution_count": 24,
     "metadata": {},
     "output_type": "execute_result"
    }
   ],
   "source": [
    "ejercicio"
   ]
  },
  {
   "cell_type": "code",
   "execution_count": 25,
   "id": "879584d8",
   "metadata": {},
   "outputs": [
    {
     "data": {
      "text/plain": [
       "['pedro', 'juan', 'jhon', 'pedro']"
      ]
     },
     "execution_count": 25,
     "metadata": {},
     "output_type": "execute_result"
    }
   ],
   "source": [
    "ejercicio[\"nombre\"]"
   ]
  },
  {
   "cell_type": "code",
   "execution_count": 3,
   "id": "0758d59a",
   "metadata": {},
   "outputs": [
    {
     "data": {
      "text/plain": [
       "[123, 456, 789, 101112]"
      ]
     },
     "execution_count": 3,
     "metadata": {},
     "output_type": "execute_result"
    }
   ],
   "source": [
    "ejercicio[\"telefono\"]"
   ]
  },
  {
   "cell_type": "code",
   "execution_count": null,
   "id": "c205cf79",
   "metadata": {},
   "outputs": [],
   "source": []
  }
 ],
 "metadata": {
  "kernelspec": {
   "display_name": "Python 3",
   "language": "python",
   "name": "python3"
  },
  "language_info": {
   "codemirror_mode": {
    "name": "ipython",
    "version": 3
   },
   "file_extension": ".py",
   "mimetype": "text/x-python",
   "name": "python",
   "nbconvert_exporter": "python",
   "pygments_lexer": "ipython3",
   "version": "3.12.1"
  }
 },
 "nbformat": 4,
 "nbformat_minor": 5
}
